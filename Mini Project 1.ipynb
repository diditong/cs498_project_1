{
 "cells": [
  {
   "cell_type": "code",
   "execution_count": 13,
   "metadata": {},
   "outputs": [
    {
     "name": "stdout",
     "output_type": "stream",
     "text": [
      "Answer for Task 0, Question 1: \n",
      "\n",
      "A brief view of the datasets are displayed below. \n",
      "\n",
      "mp1_av_totalmiles.csv: \n"
     ]
    },
    {
     "data": {
      "text/html": [
       "<div>\n",
       "<style scoped>\n",
       "    .dataframe tbody tr th:only-of-type {\n",
       "        vertical-align: middle;\n",
       "    }\n",
       "\n",
       "    .dataframe tbody tr th {\n",
       "        vertical-align: top;\n",
       "    }\n",
       "\n",
       "    .dataframe thead th {\n",
       "        text-align: right;\n",
       "    }\n",
       "</style>\n",
       "<table border=\"1\" class=\"dataframe\">\n",
       "  <thead>\n",
       "    <tr style=\"text-align: right;\">\n",
       "      <th></th>\n",
       "      <th>Month</th>\n",
       "      <th>Car</th>\n",
       "      <th>miles driven in autonomous mode</th>\n",
       "      <th>total number of disengagements</th>\n",
       "      <th>number of automatic disengagements</th>\n",
       "      <th>number of manual disengagements</th>\n",
       "    </tr>\n",
       "  </thead>\n",
       "  <tbody>\n",
       "    <tr>\n",
       "      <th>0</th>\n",
       "      <td>14-Sep</td>\n",
       "      <td>WDD2221851A001072</td>\n",
       "      <td>4207</td>\n",
       "      <td>44</td>\n",
       "      <td>24</td>\n",
       "      <td>20</td>\n",
       "    </tr>\n",
       "    <tr>\n",
       "      <th>1</th>\n",
       "      <td>14-Oct</td>\n",
       "      <td>WDD2221851A001072</td>\n",
       "      <td>23971</td>\n",
       "      <td>228</td>\n",
       "      <td>100</td>\n",
       "      <td>128</td>\n",
       "    </tr>\n",
       "  </tbody>\n",
       "</table>\n",
       "</div>"
      ],
      "text/plain": [
       "    Month                Car  miles driven in autonomous mode  \\\n",
       "0  14-Sep  WDD2221851A001072                             4207   \n",
       "1  14-Oct  WDD2221851A001072                            23971   \n",
       "\n",
       "   total number of disengagements  number of automatic disengagements  \\\n",
       "0                              44                                  24   \n",
       "1                             228                                 100   \n",
       "\n",
       "   number of manual disengagements  \n",
       "0                               20  \n",
       "1                              128  "
      ]
     },
     "metadata": {},
     "output_type": "display_data"
    },
    {
     "name": "stdout",
     "output_type": "stream",
     "text": [
      "mp1_av_disengagements.csv: \n"
     ]
    },
    {
     "data": {
      "text/html": [
       "<div>\n",
       "<style scoped>\n",
       "    .dataframe tbody tr th:only-of-type {\n",
       "        vertical-align: middle;\n",
       "    }\n",
       "\n",
       "    .dataframe tbody tr th {\n",
       "        vertical-align: top;\n",
       "    }\n",
       "\n",
       "    .dataframe thead th {\n",
       "        text-align: right;\n",
       "    }\n",
       "</style>\n",
       "<table border=\"1\" class=\"dataframe\">\n",
       "  <thead>\n",
       "    <tr style=\"text-align: right;\">\n",
       "      <th></th>\n",
       "      <th>Month</th>\n",
       "      <th>Car</th>\n",
       "      <th>Location</th>\n",
       "      <th>Weather</th>\n",
       "      <th>TypeOfTrigger</th>\n",
       "      <th>ReactionTime</th>\n",
       "      <th>Cause</th>\n",
       "    </tr>\n",
       "  </thead>\n",
       "  <tbody>\n",
       "    <tr>\n",
       "      <th>0</th>\n",
       "      <td>14-Sep</td>\n",
       "      <td>WDD2221851A001072</td>\n",
       "      <td>urban-street</td>\n",
       "      <td>cloudy</td>\n",
       "      <td>automatic</td>\n",
       "      <td>0.58</td>\n",
       "      <td>Incorrect Traffic Light Detection</td>\n",
       "    </tr>\n",
       "    <tr>\n",
       "      <th>1</th>\n",
       "      <td>14-Sep</td>\n",
       "      <td>WDD2221851A001072</td>\n",
       "      <td>urban-street</td>\n",
       "      <td>cloudy</td>\n",
       "      <td>automatic</td>\n",
       "      <td>0.66</td>\n",
       "      <td>Adverse road surface conditions</td>\n",
       "    </tr>\n",
       "  </tbody>\n",
       "</table>\n",
       "</div>"
      ],
      "text/plain": [
       "    Month                Car      Location Weather TypeOfTrigger  \\\n",
       "0  14-Sep  WDD2221851A001072  urban-street  cloudy     automatic   \n",
       "1  14-Sep  WDD2221851A001072  urban-street  cloudy     automatic   \n",
       "\n",
       "   ReactionTime                              Cause  \n",
       "0          0.58  Incorrect Traffic Light Detection  \n",
       "1          0.66    Adverse road surface conditions  "
      ]
     },
     "metadata": {},
     "output_type": "display_data"
    }
   ],
   "source": [
    "'''\n",
    "CS 498: Mini Project 1\n",
    "Authors: Rongqi Gao, Yilin Zhu, Jiashuo Tong\n",
    "'''\n",
    "\n",
    "# Task 0, Question 1\n",
    "import csv\n",
    "import pandas as pd\n",
    "\n",
    "df1 = pd.read_csv('mp1_av_totalmiles.csv')\n",
    "df2 = pd.read_csv('mp1_av_disengagements.csv')\n",
    "\n",
    "print(\"Answer for Task 0, Question 1: \\n\")\n",
    "print(\"A brief view of the datasets are displayed below. \\n\")\n",
    "print(\"mp1_av_totalmiles.csv: \")\n",
    "display(df1.head(2))\n",
    "print(\"mp1_av_disengagements.csv: \")\n",
    "display(df2.head(2))"
   ]
  },
  {
   "cell_type": "code",
   "execution_count": 14,
   "metadata": {},
   "outputs": [
    {
     "name": "stdout",
     "output_type": "stream",
     "text": [
      "Answer for Task 0, Question 2: \n",
      "\n",
      "a. Total number of AV disengagements is  1024 \n",
      " ------------------------------------------------------------\n",
      "b. Number of unique months that have recorded AV disengagements is  15 \n",
      " ------------------------------------------------------------\n",
      "c. List of unique locations of AV disengagements:  ['urban-street' 'highway'] \n",
      " ------------------------------------------------------------\n",
      "d. Number of unique causes for AV disengagements is  10 \n",
      " ------------------------------------------------------------\n",
      "e. The first dataset, mp1_av_totalmiles.csv, has no missing values\n",
      "   The second dataset, mp1_av_disengagements has 532 missing values for the column of ReactionTime\n"
     ]
    }
   ],
   "source": [
    "# Task 0, Question 2\n",
    "total_num_disengagements = df1['total number of disengagements'].sum()\n",
    "num_unique_months = len(df1['Month'].unique())\n",
    "lst_unique_locations = df2['Location'].unique()\n",
    "num_unique_causes = len(df2['Cause'].unique())\n",
    "df1_missing_values = df1.isnull().sum(axis=0) # the first dataset has no missing values\n",
    "df2_missing_values = df2.isnull().sum(axis=0) # the second dataset does have missing values\n",
    "missing_index= df2.columns[df2_missing_values.to_numpy().nonzero()][0] # find the index with missing values\n",
    "num_missing_values = df2_missing_values[missing_index] # find the number of missing values at the index\n",
    "\n",
    "print(\"Answer for Task 0, Question 2: \\n\")\n",
    "print(\"a. Total number of AV disengagements is \", total_num_disengagements, \"\\n\", \"-\"*60)\n",
    "print(\"b. Number of unique months that have recorded AV disengagements is \", num_unique_months, \"\\n\", \"-\"*60)\n",
    "print(\"c. List of unique locations of AV disengagements: \", lst_unique_locations, \"\\n\", \"-\"*60)\n",
    "print(\"d. Number of unique causes for AV disengagements is \", num_unique_causes, \"\\n\", \"-\"*60)\n",
    "print(\"e. The first dataset, mp1_av_totalmiles.csv, has no missing values\")\n",
    "print(\"   The second dataset, mp1_av_disengagements has\", num_missing_values, \\\n",
    "      \"missing values for the column of\", missing_index)"
   ]
  },
  {
   "cell_type": "code",
   "execution_count": 15,
   "metadata": {},
   "outputs": [
    {
     "name": "stdout",
     "output_type": "stream",
     "text": [
      "Answer for Task 0, Question 3: \n",
      "\n",
      "The top 2 causes of disengagments are Unwanted Driver Discomfort and Recklessly behaving agent\n",
      "*******************Run the cell twice to show pie chart*******************\n"
     ]
    },
    {
     "data": {
      "image/png": "[encoded data removed]",
      "text/plain": [
       "<Figure size 432x288 with 1 Axes>"
      ]
     },
     "metadata": {},
     "output_type": "display_data"
    }
   ],
   "source": [
    "# Task 0, Question 3 \n",
    "import matplotlib.pyplot as plt\n",
    "summary_causes = df2['Cause'].value_counts()\n",
    "top2_causes = summary_causes.head(2).index.tolist()\n",
    "print(\"Answer for Task 0, Question 3: \\n\")\n",
    "print(\"The top 2 causes of disengagments are\", ' and '.join(top2_causes))\n",
    "print(\"*******************Run the cell twice to show pie chart*******************\")\n",
    "labels = summary_causes.index\n",
    "fig1, ax1 = plt.subplots()\n",
    "ax1.pie(summary_causes, labels=labels,shadow=True, startangle=90, radius=2)\n",
    "plt.show()\n",
    "#pie_chart_causes = summary_causes.plot.pie(figsize=(8,8))"
   ]
  },
  {
   "cell_type": "code",
   "execution_count": 16,
   "metadata": {},
   "outputs": [
    {
     "name": "stdout",
     "output_type": "stream",
     "text": [
      "Answer for Task 0, Question 4: \n",
      "\n",
      "Number of disengagements per mile is decreasing over time, which implies that the AV technology is maturing.\n"
     ]
    },
    {
     "data": {
      "image/png": "[encoded data removed]",
      "text/plain": [
       "<Figure size 720x360 with 1 Axes>"
      ]
     },
     "metadata": {
      "needs_background": "light"
     },
     "output_type": "display_data"
    }
   ],
   "source": [
    "# Task 0, Question 4\n",
    "import matplotlib.pyplot as plt\n",
    "trend = df1[['Month','total number of disengagements','miles driven in autonomous mode']][:-2]\n",
    "trend['ratio'] = trend['total number of disengagements'] / trend['miles driven in autonomous mode']\n",
    "trend.plot(x ='Month', y='ratio', kind = 'line', figsize=(10,5))\n",
    "plt.xticks(trend.index, trend['Month'], rotation=90);\n",
    "print(\"Answer for Task 0, Question 4: \\n\")\n",
    "print(\"Number of disengagements per mile is decreasing over time, which implies that the AV technology is maturing.\")"
   ]
  },
  {
   "cell_type": "code",
   "execution_count": 17,
   "metadata": {},
   "outputs": [
    {
     "name": "stdout",
     "output_type": "stream",
     "text": [
      "Answer for Task 1, Question 1: \n",
      "\n",
      "1. The Gaussian Distribution is a bell-shaped curve. It tells us the mean and standard deviation of a dataset.\n",
      "\n",
      "2. The Exponential Distribution is a monotonically-decreasing concave-up curve. Once the distribution is fit to data, its rate parameter (λ) will describe the decaying rate of data.\n",
      "\n",
      "3. The Weibull Distribution has the shape parameter which controls the shape of the curve, and the scale parameter which controls how much the distribution spreads out. The existence of a shape parameter implies that the distribution can be used to fit a broader range of datasets. \n",
      "\n"
     ]
    }
   ],
   "source": [
    "# Task 1, Question 1\n",
    "print(\"Answer for Task 1, Question 1: \\n\")\n",
    "print(\"1. The Gaussian Distribution is a bell-shaped curve. It tells us the mean and standard deviation of a dataset.\\n\")\n",
    "print(\"2. The Exponential Distribution is a monotonically-decreasing concave-up curve. Once the distribution is fit to data, its rate parameter (λ) will describe the decaying rate of data.\\n\")\n",
    "print(\"3. The Weibull Distribution has the shape parameter which controls the shape of the curve, and the scale parameter which controls how much the distribution spreads out. The existence of a shape parameter implies that the distribution can be used to fit a broader range of datasets. \\n\")"
   ]
  },
  {
   "cell_type": "code",
   "execution_count": 18,
   "metadata": {},
   "outputs": [
    {
     "name": "stdout",
     "output_type": "stream",
     "text": [
      "Answer for Task 1, Question 2: \n",
      "\n",
      "The probability distribution of reation times fits exponential distribution very well, which signifies that the probability of a specific reaction time decays fast with increasing reaction times.\n"
     ]
    },
    {
     "data": {
      "image/png": "[encoded data removed]",
      "text/plain": [
       "<Figure size 720x360 with 1 Axes>"
      ]
     },
     "metadata": {
      "needs_background": "light"
     },
     "output_type": "display_data"
    }
   ],
   "source": [
    "# Task 1, Question 2\n",
    "print(\"Answer for Task 1, Question 2: \\n\")\n",
    "import numpy as np\n",
    "import scipy.stats as st\n",
    "from scipy.stats import norm, expon, weibull_min\n",
    "fig2, ax2 = plt.subplots(figsize=(10,5))\n",
    "\n",
    "reaction_time_data = df2['ReactionTime'].dropna()\n",
    "\n",
    "ax2.hist(reaction_time_data, color = 'yellow', edgecolor = 'black', density=True, bins = 20, range=(0,5));\n",
    "plt.title('Normalized Histogram of Reaction Times')\n",
    "plt.xlabel('Reaction Time t (seconds)')\n",
    "\n",
    "loc, scale = st.expon.fit(reaction_time_data)\n",
    "x = np.linspace(0,5,1000)\n",
    "y = st.expon.pdf(x,loc,scale)\n",
    "\n",
    "plt.plot(x,y)\n",
    "print(\"The probability distribution of reation times fits exponential distribution very well, which signifies that the probability of a specific reaction time decays fast with increasing reaction times.\")\n",
    "\n",
    "\n",
    "#plt.hist(df2['ReactionTime'], color = 'yellow', edgecolor = 'black', bins = 30, figsize=(5,10))"
   ]
  },
  {
   "cell_type": "code",
   "execution_count": 19,
   "metadata": {},
   "outputs": [
    {
     "name": "stdout",
     "output_type": "stream",
     "text": [
      "Answer for Task 1, Question 3: \n",
      "\n",
      "Answer for Task 1, Question 3: \n",
      "\n",
      "The average reaction time for all locations is  0.9297703252032526 seconds\n",
      "The average reaction time for high ways is  1.48 seconds, while for Urbana streets, it is 0.9286496945010189 seconds.\n"
     ]
    }
   ],
   "source": [
    "# Task 1, Question 3\n",
    "print(\"Answer for Task 1, Question 3: \\n\")\n",
    "avg_overall = df2.ReactionTime.mean()\n",
    "avg_location = df2.groupby(\"Location\")[\"ReactionTime\"].mean()\n",
    "print(\"Answer for Task 1, Question 3: \\n\")\n",
    "print(\"The average reaction time for all locations is \", avg_overall, \"seconds\")\n",
    "print(\"The average reaction time for high ways is \", avg_location[0], \"seconds, while for Urbana streets, it is\", avg_location[1], \"seconds.\")"
   ]
  },
  {
   "cell_type": "code",
   "execution_count": 20,
   "metadata": {},
   "outputs": [
    {
     "name": "stdout",
     "output_type": "stream",
     "text": [
      "Answer for Task 1, Question 4: \n",
      "\n"
     ]
    }
   ],
   "source": [
    "# Task 1, Question 4\n",
    "print(\"Answer for Task 1, Question 4: \\n\")\n",
    "react_manual = df2.ReactionTime[df2.TypeOfTrigger == \"manual\"]\n",
    "z_score = (react_manual.mean()- 1.09)/ react_manual.std()"
   ]
  },
  {
   "cell_type": "code",
   "execution_count": 21,
   "metadata": {},
   "outputs": [
    {
     "name": "stdout",
     "output_type": "stream",
     "text": [
      "Answer for Task 1, Question 5: \n",
      "\n"
     ]
    },
    {
     "data": {
      "image/png": "[encoded data removed]",
      "text/plain": [
       "<Figure size 432x288 with 1 Axes>"
      ]
     },
     "metadata": {
      "needs_background": "light"
     },
     "output_type": "display_data"
    }
   ],
   "source": [
    "# Task 1, Question 5\n",
    "print(\"Answer for Task 1, Question 5: \\n\")\n",
    "trend.ratio.plot(kind = \"hist\", density = True)\n",
    "plt.show()"
   ]
  },
  {
   "cell_type": "code",
   "execution_count": 26,
   "metadata": {},
   "outputs": [
    {
     "data": {
      "text/html": [
       "<div>\n",
       "<style scoped>\n",
       "    .dataframe tbody tr th:only-of-type {\n",
       "        vertical-align: middle;\n",
       "    }\n",
       "\n",
       "    .dataframe tbody tr th {\n",
       "        vertical-align: top;\n",
       "    }\n",
       "\n",
       "    .dataframe thead th {\n",
       "        text-align: right;\n",
       "    }\n",
       "</style>\n",
       "<table border=\"1\" class=\"dataframe\">\n",
       "  <thead>\n",
       "    <tr style=\"text-align: right;\">\n",
       "      <th></th>\n",
       "      <th>Month</th>\n",
       "      <th>Car</th>\n",
       "      <th>miles driven in autonomous mode</th>\n",
       "      <th>total number of disengagements</th>\n",
       "      <th>number of automatic disengagements</th>\n",
       "      <th>number of manual disengagements</th>\n",
       "      <th>Location</th>\n",
       "      <th>Weather</th>\n",
       "      <th>TypeOfTrigger</th>\n",
       "      <th>ReactionTime</th>\n",
       "      <th>Cause</th>\n",
       "    </tr>\n",
       "  </thead>\n",
       "  <tbody>\n",
       "    <tr>\n",
       "      <th>0</th>\n",
       "      <td>14-Sep</td>\n",
       "      <td>WDD2221851A001072</td>\n",
       "      <td>4207</td>\n",
       "      <td>44</td>\n",
       "      <td>24</td>\n",
       "      <td>20</td>\n",
       "      <td>urban-street</td>\n",
       "      <td>cloudy</td>\n",
       "      <td>automatic</td>\n",
       "      <td>0.58</td>\n",
       "      <td>Incorrect Traffic Light Detection</td>\n",
       "    </tr>\n",
       "    <tr>\n",
       "      <th>1</th>\n",
       "      <td>14-Sep</td>\n",
       "      <td>WDD2221851A001072</td>\n",
       "      <td>4207</td>\n",
       "      <td>44</td>\n",
       "      <td>24</td>\n",
       "      <td>20</td>\n",
       "      <td>urban-street</td>\n",
       "      <td>cloudy</td>\n",
       "      <td>automatic</td>\n",
       "      <td>0.66</td>\n",
       "      <td>Adverse road surface conditions</td>\n",
       "    </tr>\n",
       "  </tbody>\n",
       "</table>\n",
       "</div>"
      ],
      "text/plain": [
       "    Month                Car  miles driven in autonomous mode  \\\n",
       "0  14-Sep  WDD2221851A001072                             4207   \n",
       "1  14-Sep  WDD2221851A001072                             4207   \n",
       "\n",
       "   total number of disengagements  number of automatic disengagements  \\\n",
       "0                              44                                  24   \n",
       "1                              44                                  24   \n",
       "\n",
       "   number of manual disengagements      Location Weather TypeOfTrigger  \\\n",
       "0                               20  urban-street  cloudy     automatic   \n",
       "1                               20  urban-street  cloudy     automatic   \n",
       "\n",
       "   ReactionTime                              Cause  \n",
       "0          0.58  Incorrect Traffic Light Detection  \n",
       "1          0.66    Adverse road surface conditions  "
      ]
     },
     "metadata": {},
     "output_type": "display_data"
    },
    {
     "name": "stdout",
     "output_type": "stream",
     "text": [
      "Answer for Task 2, Question 1: \n",
      "\n",
      "Answer for Question a: Bernoulli distribution(either one disengagement or zero in a mile)\n",
      "Answer for Question b: The probability is  0.021080559912597316\n",
      "Answer for Question c: The probability is  0.0007216199650719443\n",
      "Answer for Question d: Given the cloudy day, the probability is  0.010022733275809744 ; Given the clear day, the probability is  0.00036653712511590825\n",
      "Answer for Question e: The probability that there are 150 or more disengagements under cloudy conditions is  0.9999999999983208\n"
     ]
    }
   ],
   "source": [
    "# Task 2, Question 1\n",
    "df_merge = pd.merge(left = df1, right = df2, on = [\"Month\", \"Car\"])\n",
    "display(df_merge.head(2))\n",
    "df_clear = df_merge[df_merge.Weather == \"clear\"]\n",
    "df_cloudy = df_merge[df_merge.Weather == \"cloudy\"]\n",
    "P_dis_clear = df_clear.Weather.count()/(df1[\"miles driven in autonomous mode\"].sum() * 0.72)\n",
    "P_dis_cloudy = df_cloudy.Weather.count()/(df1[\"miles driven in autonomous mode\"].sum() * 0.28)\n",
    "P_dis_given_clear = P_dis_clear/ 0.72\n",
    "P_dis_given_cloudy = P_dis_cloudy/ 0.28\n",
    "\n",
    "P_dis_auto_clear = df_clear[df_clear.TypeOfTrigger == \"automatic\"].Weather.count()/ (df1[\"miles driven in autonomous mode\"].sum() * 0.72)\n",
    "P_dis_auto_cloudy = df_cloudy[df_cloudy.TypeOfTrigger == \"automatic\"].Weather.count()/ (df1[\"miles driven in autonomous mode\"].sum() * 0.28)\n",
    "P_dis_auto_given_clear = P_dis_auto_clear/ 0.72\n",
    "P_dis_auto_given_cloudy = P_dis_auto_cloudy/ 0.28\n",
    "\n",
    "# For Question(e), we will use normal distribution to approximate the binomial distribution B(12000, p_a_given_cloudy)\n",
    "# The number of disengagements should approximately follows N(12000*p_a_given_cloudy, sqrt(12000*p_a_given_cloudy*(1-p_a_given_cloudy)))\n",
    "mean = 12000 * P_dis_given_cloudy\n",
    "from scipy.stats import poisson, norm\n",
    "prob = 1 - poisson.cdf(150, mean)\n",
    "\n",
    "print(\"Answer for Task 2, Question 1: \\n\")\n",
    "print(\"Answer for Question a: Bernoulli distribution(either one disengagement or zero in a mile)\")\n",
    "print(\"Answer for Question b: The probability is \", P_dis_given_cloudy)\n",
    "print(\"Answer for Question c: The probability is \", P_dis_given_clear)\n",
    "print(\"Answer for Question d: Given the cloudy day, the probability is \", P_dis_auto_given_cloudy, \"; Given the clear day, the probability is \", P_dis_auto_given_clear)\n",
    "print(\"Answer for Question e: The probability that there are 150 or more disengagements under cloudy conditions is \", prob)"
   ]
  },
  {
   "cell_type": "code",
   "execution_count": 27,
   "metadata": {},
   "outputs": [
    {
     "name": "stdout",
     "output_type": "stream",
     "text": [
      "Answer for Task 2, Question 2: \n",
      "\n",
      "It represents that the z-score follows normal distribution and we should calculate the p-value under the normal distribution \n",
      "\n",
      "Yes, because the alternative hypothesis should be the opposite of the null hypothesis. Rejecting null hypothesis is equivalent to accepting alternative hypothesis.\n"
     ]
    }
   ],
   "source": [
    "# Task 2, Question 2\n",
    "print(\"Answer for Task 2, Question 2: \\n\")\n",
    "print(\"It represents that the z-score follows normal distribution and we should calculate the p-value under the normal distribution \\n\")\n",
    "print(\"Yes, because the alternative hypothesis should be the opposite of the null hypothesis. Rejecting null hypothesis is equivalent to accepting alternative hypothesis.\")"
   ]
  },
  {
   "cell_type": "code",
   "execution_count": 28,
   "metadata": {},
   "outputs": [
    {
     "name": "stdout",
     "output_type": "stream",
     "text": [
      "38.1986243877602\n",
      "Answer for Task 2, Question 3: \n",
      "\n",
      "The null hypothesis for this test is: The AV has the same disengagements(per mile) on cloudy days and clear days\n",
      "The alternative hypothesis is: The AV has the different disengagements(per mile) on cloudy days  clear days\n",
      "The p-value for this test is:  0.0 < 0.05\n",
      "Therefore, we could reject the null hypothesis.\n",
      "Furthermore, the mean disengagements per mile on cloudy days is  0.005902556775527249 larger than the one on clear days, which is  0.0005195663748517998\n",
      "Hence we could conclude that the AV has more disengagements(per mile) on cloudy days than clear days\n"
     ]
    }
   ],
   "source": [
    "# Task 2, Question 3\n",
    "dis_clear = df_merge.groupby(\"Weather\").Weather.count()[0]\n",
    "dis_cloudy = df_merge.groupby(\"Weather\").Weather.count()[1]\n",
    "miles_clear = df1[\"miles driven in autonomous mode\"].sum() * 0.72\n",
    "miles_cloudy = df1[\"miles driven in autonomous mode\"].sum() * 0.28\n",
    "prop_clear = dis_clear/ miles_clear\n",
    "prop_cloudy = dis_cloudy/ miles_cloudy\n",
    "p_hat = (dis_clear + dis_cloudy)/ (miles_clear + miles_cloudy)\n",
    "q_hat = 1 - p_hat\n",
    "\n",
    "z_score = (prop_cloudy - prop_clear)/ ((p_hat * q_hat * (1/ miles_clear + 1/ miles_cloudy)) ** 0.5)\n",
    "print(z_score)\n",
    "p_value = 2 * (1 - norm.cdf(z_score, 0, 1))\n",
    "print(\"Answer for Task 2, Question 3: \\n\")\n",
    "print(\"The null hypothesis for this test is: The AV has the same disengagements(per mile) on cloudy days and clear days\")\n",
    "print(\"The alternative hypothesis is: The AV has the different disengagements(per mile) on cloudy days  clear days\")\n",
    "print(\"The p-value for this test is: \", p_value, \"< 0.05\")\n",
    "print(\"Therefore, we could reject the null hypothesis.\")\n",
    "print(\"Furthermore, the mean disengagements per mile on cloudy days is \", prop_cloudy, \"larger than the one on clear days, which is \", prop_clear)\n",
    "print(\"Hence we could conclude that the AV has more disengagements(per mile) on cloudy days than clear days\")"
   ]
  },
  {
   "cell_type": "code",
   "execution_count": 29,
   "metadata": {},
   "outputs": [
    {
     "name": "stdout",
     "output_type": "stream",
     "text": [
      "Answer for Task 2, Question 4: \n",
      "\n",
      "The conditional probability that the reaction time is greater than 0.6s given that the weather was cloudy and the disengagement type is automatic is:  0.4759493670886076\n",
      "The conditional probability that the reaction time is greater than 0.9s given that the weather was clear and the disengagement type is automatic is:  0.28125\n"
     ]
    }
   ],
   "source": [
    "# Task 2, Question 4\n",
    "df_sub1 = df_merge[(df_merge.Weather == \"cloudy\") & (df_merge.TypeOfTrigger == \"automatic\")]\n",
    "df_sub2 = df_merge[(df_merge.Weather == \"clear\") & (df_merge.TypeOfTrigger == \"automatic\")]\n",
    "P_1 = df_sub1[df_sub1.ReactionTime > 0.6].ReactionTime.count()/ df_sub1.ReactionTime.count()\n",
    "P_2 = df_sub2[df_sub2.ReactionTime > 0.9].ReactionTime.count()/ df_sub2.ReactionTime.count()\n",
    "print(\"Answer for Task 2, Question 4: \\n\")\n",
    "print(\"The conditional probability that the reaction time is greater than 0.6s given that the weather was cloudy and the disengagement type is automatic is: \", P_1)\n",
    "print(\"The conditional probability that the reaction time is greater than 0.9s given that the weather was clear and the disengagement type is automatic is: \", P_2)"
   ]
  },
  {
   "cell_type": "code",
   "execution_count": null,
   "metadata": {},
   "outputs": [],
   "source": [
    "# Task 2, Question 5\n",
    "# The target is to calculate probability of accident per mile given there is an automatic AV disengagement\n",
    "# Let A denotes the event \"there is an accident in a mile\", C denotes the event \"there is an automatic AV disengagement in that mile.\"\n",
    "# Suppose B_1 donotes the cloudy weather, and B_2 denotes the clear weather. Therefore, we have\n",
    "# P(A|C) = P(A,C)/ P(C) = [P(A,C|B_1) + P(A,C|B_2)]/[P(C|B_1) + P(C|B_2)]\n",
    "# Also we have, according to chain rule, P(A, C|B_i) = p(A|C, B_i) * p(C|B_i), where i = 1, 2\n",
    "P_A_given_C_B1 = P_1\n",
    "P_A_given_C_B2 = P_2\n",
    "P_C_given_B1 = P_a_auto_given_cloudy\n",
    "P_C_given_B2 = P_a_auto_given_clear\n",
    "P_A_given_C = (P_A_given_C_B1 * P_C_given_B1 + P_A_given_C_B2 * P_C_given_B2)/ (P_C_given_B1 + P_C_given_B2)\n",
    "print(\"Answer for Task 2, Question 5: \\n\")\n",
    "print(\"Probability of an accident per mile involving an (automatic) AV disengagement is: \", P_A_given_C)"
   ]
  },
  {
   "cell_type": "code",
   "execution_count": null,
   "metadata": {},
   "outputs": [],
   "source": []
  },
  {
   "cell_type": "code",
   "execution_count": null,
   "metadata": {},
   "outputs": [],
   "source": [
    "# Q3\n",
    "num_disengagements_cloudy = 0\n",
    "num_disengagements_clear = 0\n",
    "miles_cloudy = 0\n",
    "miles_clear = 0\n",
    "total_miles = df1['miles driven in autonomous mode'].sum()\n",
    "\n",
    "df2.head()\n",
    "\n",
    "disengagement_counts_by_weather = df2.groupby(\"Weather\").count()[\"Month\"]\n",
    "\n",
    "display(disengagement_counts_by_weather)\n",
    "\n",
    "miles_cloudy = total_miles * 0.28\n",
    "miles_clear = total_miles * 0.72\n",
    "\n",
    "X1 = 835\n",
    "X2 = 189\n",
    "n1 = miles_cloudy\n",
    "n2 = miles_clear\n",
    "\n",
    "p1_hat = X1/n1\n",
    "p2_hat = X2/n2\n",
    "\n",
    "p_hat = (X1+X2)/(n1+n2)\n",
    "q_hat = 1-p_hat\n",
    "\n",
    "\n",
    "Z = (p1_hat-p2_hat)/np.sqrt(p_hat*q_hat*(1/n1+1/n2))\n",
    "print(Z)"
   ]
  },
  {
   "cell_type": "code",
   "execution_count": 31,
   "metadata": {},
   "outputs": [
    {
     "data": {
      "text/html": [
       "<div>\n",
       "<style scoped>\n",
       "    .dataframe tbody tr th:only-of-type {\n",
       "        vertical-align: middle;\n",
       "    }\n",
       "\n",
       "    .dataframe tbody tr th {\n",
       "        vertical-align: top;\n",
       "    }\n",
       "\n",
       "    .dataframe thead th {\n",
       "        text-align: right;\n",
       "    }\n",
       "</style>\n",
       "<table border=\"1\" class=\"dataframe\">\n",
       "  <thead>\n",
       "    <tr style=\"text-align: right;\">\n",
       "      <th></th>\n",
       "      <th>Month</th>\n",
       "      <th>Car</th>\n",
       "      <th>Location</th>\n",
       "      <th>Weather</th>\n",
       "      <th>TypeOfTrigger</th>\n",
       "      <th>ReactionTime</th>\n",
       "      <th>Cause</th>\n",
       "      <th>Class</th>\n",
       "    </tr>\n",
       "  </thead>\n",
       "  <tbody>\n",
       "    <tr>\n",
       "      <th>0</th>\n",
       "      <td>14-Sep</td>\n",
       "      <td>WDD2221851A001072</td>\n",
       "      <td>urban-street</td>\n",
       "      <td>cloudy</td>\n",
       "      <td>automatic</td>\n",
       "      <td>0.58</td>\n",
       "      <td>Incorrect Traffic Light Detection</td>\n",
       "      <td>Perception System</td>\n",
       "    </tr>\n",
       "    <tr>\n",
       "      <th>1</th>\n",
       "      <td>14-Sep</td>\n",
       "      <td>WDD2221851A001072</td>\n",
       "      <td>urban-street</td>\n",
       "      <td>cloudy</td>\n",
       "      <td>automatic</td>\n",
       "      <td>0.66</td>\n",
       "      <td>Adverse road surface conditions</td>\n",
       "      <td>Perception System</td>\n",
       "    </tr>\n",
       "    <tr>\n",
       "      <th>2</th>\n",
       "      <td>14-Sep</td>\n",
       "      <td>WDD2221851A001072</td>\n",
       "      <td>urban-street</td>\n",
       "      <td>cloudy</td>\n",
       "      <td>automatic</td>\n",
       "      <td>1.93</td>\n",
       "      <td>Position Estimation Failure</td>\n",
       "      <td>Perception System</td>\n",
       "    </tr>\n",
       "    <tr>\n",
       "      <th>3</th>\n",
       "      <td>14-Sep</td>\n",
       "      <td>WDD2221851A001072</td>\n",
       "      <td>urban-street</td>\n",
       "      <td>cloudy</td>\n",
       "      <td>automatic</td>\n",
       "      <td>0.65</td>\n",
       "      <td>Emergency Vehicle</td>\n",
       "      <td>Perception System</td>\n",
       "    </tr>\n",
       "    <tr>\n",
       "      <th>4</th>\n",
       "      <td>14-Sep</td>\n",
       "      <td>WDD2221851A001072</td>\n",
       "      <td>urban-street</td>\n",
       "      <td>cloudy</td>\n",
       "      <td>automatic</td>\n",
       "      <td>0.64</td>\n",
       "      <td>Adverse road surface conditions</td>\n",
       "      <td>Perception System</td>\n",
       "    </tr>\n",
       "  </tbody>\n",
       "</table>\n",
       "</div>"
      ],
      "text/plain": [
       "    Month                Car      Location Weather TypeOfTrigger  \\\n",
       "0  14-Sep  WDD2221851A001072  urban-street  cloudy     automatic   \n",
       "1  14-Sep  WDD2221851A001072  urban-street  cloudy     automatic   \n",
       "2  14-Sep  WDD2221851A001072  urban-street  cloudy     automatic   \n",
       "3  14-Sep  WDD2221851A001072  urban-street  cloudy     automatic   \n",
       "4  14-Sep  WDD2221851A001072  urban-street  cloudy     automatic   \n",
       "\n",
       "   ReactionTime                              Cause              Class  \n",
       "0          0.58  Incorrect Traffic Light Detection  Perception System  \n",
       "1          0.66    Adverse road surface conditions  Perception System  \n",
       "2          1.93        Position Estimation Failure  Perception System  \n",
       "3          0.65                  Emergency Vehicle  Perception System  \n",
       "4          0.64    Adverse road surface conditions  Perception System  "
      ]
     },
     "execution_count": 31,
     "metadata": {},
     "output_type": "execute_result"
    }
   ],
   "source": [
    "'''\n",
    "Task 3\n",
    "'''\n",
    "# Question 1\n",
    "\n",
    "import numpy as np\n",
    "\n",
    "# Group different classes into gorups\n",
    "controller_class = ['Incorrect behavior prediction of others', 'Recklessly behaving agent','Unwanted Driver Discomfort']\n",
    "perception_system_class =['Adverse road surface conditions', 'Emergency Vehicle', 'Position Estimation Failure', 'Incorrect Traffic Light Detection']\n",
    "computer_system_class = ['System Tuning and Calibration', 'Hardware Fault', 'Software Froze']\n",
    "\n",
    "# Define conditions on which different classes will be assigned\n",
    "condition1 = ((df2['Cause'] == controller_class[0])|(df2['Cause'] == controller_class[1])|(df2['Cause'] == controller_class[2]))\n",
    "condition2 = ((df2['Cause'] == perception_system_class[0])|(df2['Cause'] == perception_system_class[1])|\\\n",
    "              (df2['Cause'] == perception_system_class[2])|(df2['Cause'] == perception_system_class[3]))\n",
    "condition3 = ((df2['Cause'] == computer_system_class[0])|(df2['Cause'] == computer_system_class[1])|(df2['Cause'] == computer_system_class[2]))\n",
    "\n",
    "# Add classes to the DataFrame based on the conditions\n",
    "df2.loc[condition1, 'Class'] = 'Controller'\n",
    "df2.loc[condition2, 'Class'] = 'Perception System'\n",
    "df2.loc[condition3, 'Class'] = 'Computer System'\n",
    "\n",
    "df2.head() # Show that \"Class\" has been added to the DataFrame"
   ]
  },
  {
   "cell_type": "code",
   "execution_count": 33,
   "metadata": {},
   "outputs": [],
   "source": [
    "# Question 2\n",
    "import random\n",
    "\n",
    "# Retrieve the relevant columns from df2\n",
    "df3 = df2[['Location','Weather','TypeOfTrigger','Class']]\n",
    "\n",
    "# Create lists of random indices, and sort them\n",
    "df3_length = len(df3)\n",
    "lst = list(range(df3_length))\n",
    "random.shuffle(lst)\n",
    "training_list = sorted(lst[:int(df3_length*0.8)])\n",
    "test_list = sorted(lst[int(df3_length*0.8):])\n",
    "\n",
    "# Divide the original database into training sets and test sets \n",
    "training_set = df3.iloc[training_list]\n",
    "test_set = df3.iloc[test_list]"
   ]
  },
  {
   "cell_type": "code",
   "execution_count": 34,
   "metadata": {},
   "outputs": [
    {
     "data": {
      "text/html": [
       "<div>\n",
       "<style scoped>\n",
       "    .dataframe tbody tr th:only-of-type {\n",
       "        vertical-align: middle;\n",
       "    }\n",
       "\n",
       "    .dataframe tbody tr th {\n",
       "        vertical-align: top;\n",
       "    }\n",
       "\n",
       "    .dataframe thead th {\n",
       "        text-align: right;\n",
       "    }\n",
       "</style>\n",
       "<table border=\"1\" class=\"dataframe\">\n",
       "  <thead>\n",
       "    <tr style=\"text-align: right;\">\n",
       "      <th>Class</th>\n",
       "      <th>Computer System</th>\n",
       "      <th>Controller</th>\n",
       "      <th>Perception System</th>\n",
       "    </tr>\n",
       "    <tr>\n",
       "      <th>Location</th>\n",
       "      <th></th>\n",
       "      <th></th>\n",
       "      <th></th>\n",
       "    </tr>\n",
       "  </thead>\n",
       "  <tbody>\n",
       "    <tr>\n",
       "      <th>highway</th>\n",
       "      <td>0.019536</td>\n",
       "      <td>0.000000</td>\n",
       "      <td>0.000000</td>\n",
       "    </tr>\n",
       "    <tr>\n",
       "      <th>urban-street</th>\n",
       "      <td>0.279609</td>\n",
       "      <td>0.355311</td>\n",
       "      <td>0.345543</td>\n",
       "    </tr>\n",
       "  </tbody>\n",
       "</table>\n",
       "</div>"
      ],
      "text/plain": [
       "Class         Computer System  Controller  Perception System\n",
       "Location                                                    \n",
       "highway              0.019536    0.000000           0.000000\n",
       "urban-street         0.279609    0.355311           0.345543"
      ]
     },
     "metadata": {},
     "output_type": "display_data"
    },
    {
     "data": {
      "text/html": [
       "<div>\n",
       "<style scoped>\n",
       "    .dataframe tbody tr th:only-of-type {\n",
       "        vertical-align: middle;\n",
       "    }\n",
       "\n",
       "    .dataframe tbody tr th {\n",
       "        vertical-align: top;\n",
       "    }\n",
       "\n",
       "    .dataframe thead th {\n",
       "        text-align: right;\n",
       "    }\n",
       "</style>\n",
       "<table border=\"1\" class=\"dataframe\">\n",
       "  <thead>\n",
       "    <tr style=\"text-align: right;\">\n",
       "      <th>Class</th>\n",
       "      <th>Computer System</th>\n",
       "      <th>Controller</th>\n",
       "      <th>Perception System</th>\n",
       "    </tr>\n",
       "    <tr>\n",
       "      <th>Weather</th>\n",
       "      <th></th>\n",
       "      <th></th>\n",
       "      <th></th>\n",
       "    </tr>\n",
       "  </thead>\n",
       "  <tbody>\n",
       "    <tr>\n",
       "      <th>clear</th>\n",
       "      <td>0.181929</td>\n",
       "      <td>0.001221</td>\n",
       "      <td>0.000000</td>\n",
       "    </tr>\n",
       "    <tr>\n",
       "      <th>cloudy</th>\n",
       "      <td>0.117216</td>\n",
       "      <td>0.354090</td>\n",
       "      <td>0.345543</td>\n",
       "    </tr>\n",
       "  </tbody>\n",
       "</table>\n",
       "</div>"
      ],
      "text/plain": [
       "Class    Computer System  Controller  Perception System\n",
       "Weather                                                \n",
       "clear           0.181929    0.001221           0.000000\n",
       "cloudy          0.117216    0.354090           0.345543"
      ]
     },
     "metadata": {},
     "output_type": "display_data"
    },
    {
     "data": {
      "text/html": [
       "<div>\n",
       "<style scoped>\n",
       "    .dataframe tbody tr th:only-of-type {\n",
       "        vertical-align: middle;\n",
       "    }\n",
       "\n",
       "    .dataframe tbody tr th {\n",
       "        vertical-align: top;\n",
       "    }\n",
       "\n",
       "    .dataframe thead th {\n",
       "        text-align: right;\n",
       "    }\n",
       "</style>\n",
       "<table border=\"1\" class=\"dataframe\">\n",
       "  <thead>\n",
       "    <tr style=\"text-align: right;\">\n",
       "      <th>Class</th>\n",
       "      <th>Computer System</th>\n",
       "      <th>Controller</th>\n",
       "      <th>Perception System</th>\n",
       "    </tr>\n",
       "    <tr>\n",
       "      <th>TypeOfTrigger</th>\n",
       "      <th></th>\n",
       "      <th></th>\n",
       "      <th></th>\n",
       "    </tr>\n",
       "  </thead>\n",
       "  <tbody>\n",
       "    <tr>\n",
       "      <th>automatic</th>\n",
       "      <td>0.141636</td>\n",
       "      <td>0.047619</td>\n",
       "      <td>0.285714</td>\n",
       "    </tr>\n",
       "    <tr>\n",
       "      <th>manual</th>\n",
       "      <td>0.157509</td>\n",
       "      <td>0.307692</td>\n",
       "      <td>0.059829</td>\n",
       "    </tr>\n",
       "  </tbody>\n",
       "</table>\n",
       "</div>"
      ],
      "text/plain": [
       "Class          Computer System  Controller  Perception System\n",
       "TypeOfTrigger                                                \n",
       "automatic             0.141636    0.047619           0.285714\n",
       "manual                0.157509    0.307692           0.059829"
      ]
     },
     "metadata": {},
     "output_type": "display_data"
    }
   ],
   "source": [
    "# Question 3\n",
    "\n",
    "# Create the conditional probability tables using the pivot_table function\n",
    "LC = training_set.pivot_table(index='Location', columns='Class', values='TypeOfTrigger', fill_value=0, aggfunc='count')\n",
    "WC = training_set.pivot_table(index='Weather', columns='Class', values='TypeOfTrigger', fill_value=0, aggfunc='count')\n",
    "TC = training_set.pivot_table(index='TypeOfTrigger', columns='Class', values='Weather', fill_value=0, aggfunc='count')\n",
    "LC, WC, TC = LC/LC.sum().sum(), WC/WC.sum().sum(), TC/TC.sum().sum()\n",
    "\n",
    "# Display the conditional probability tables\n",
    "display(LC), display(WC), display(TC);"
   ]
  },
  {
   "cell_type": "code",
   "execution_count": null,
   "metadata": {},
   "outputs": [],
   "source": [
    "# Question 4\n",
    "classes = [\"Controller\",\"Perception System\",\"Computer System\"] # Define the classes\n",
    "num_correct_predictions = 0 # Initialize the counter for the correct predictions\n",
    "\n",
    "# Iterate through the test_set row by row and make predictions\n",
    "for _, row in test_set.iterrows():\n",
    "    location = row[\"Location\"]\n",
    "    weather = row[\"Weather\"]\n",
    "    trigger = row[\"TypeOfTrigger\"]\n",
    "    probs = {} # Define the probability array that stores the probability for each class\n",
    "    for index,cls in enumerate(classes):\n",
    "        probs[cls] = LC[cls].loc[location]*WC[cls].loc[weather]*TC[cls].loc[trigger] # Compute the probability for each class\n",
    "    pred_class = max(probs, key=probs.get) # Predicted class is the one with the largest probabiltity\n",
    "    if pred_class == row[\"Class\"]: # If the predicted class matches the real class\n",
    "        num_correct_predictions += 1 # Count it\n",
    "accuracy = num_correct_predictions/len(test_set) # Accuracy is number of correct predictions divided by the size of test data\n",
    "print(\"The accuracy on the test set is\", accuracy) # Answer Question 4"
   ]
  },
  {
   "cell_type": "code",
   "execution_count": 35,
   "metadata": {},
   "outputs": [
    {
     "name": "stdout",
     "output_type": "stream",
     "text": [
      "Q5: The accuracies for five predictions are [0.8097560975609757, 0.8097560975609757, 0.8, 0.7951219512195122, 0.7707317073170732]\n",
      "The average accuracy for five predictions on the test set is 0.7970731707317074\n"
     ]
    }
   ],
   "source": [
    "# Question 5\n",
    "import random\n",
    "\n",
    "accuracies = [] # Define an accuracy array that stores the accuracies for the five trials\n",
    "# Repeat Question 2-4 for five times\n",
    "for i in range(5):\n",
    "    # Repeat Question 2\n",
    "    df3 = df2[['Location','Weather','TypeOfTrigger','Class']]\n",
    "    df3_length = len(df3)\n",
    "    lst = list(range(df3_length))\n",
    "    random.shuffle(lst)\n",
    "    training_list = sorted(lst[:int(df3_length*0.8)])\n",
    "    test_list = sorted(lst[int(df3_length*0.8):])\n",
    "    training_set = df3.iloc[training_list]\n",
    "    test_set = df3.iloc[test_list]\n",
    "    # Repeat Question 3\n",
    "    LC = training_set.pivot_table(index='Location', columns='Class', values='TypeOfTrigger', fill_value=0, aggfunc='count')\n",
    "    WC = training_set.pivot_table(index='Weather', columns='Class', values='TypeOfTrigger', fill_value=0, aggfunc='count')\n",
    "    TC = training_set.pivot_table(index='TypeOfTrigger', columns='Class', values='Weather', fill_value=0, aggfunc='count')\n",
    "    LC, WC, TC = LC/LC.sum().sum(), WC/WC.sum().sum(), TC/TC.sum().sum()\n",
    "    # Repeat Question 4\n",
    "    classes = [\"Controller\",\"Perception System\",\"Computer System\"]\n",
    "    num_correct_predictions = 0\n",
    "    for _, row in test_set.iterrows():\n",
    "        location = row[\"Location\"]\n",
    "        weather = row[\"Weather\"]\n",
    "        trigger = row[\"TypeOfTrigger\"]\n",
    "        probs = {}\n",
    "        for index,cls in enumerate(classes):\n",
    "            probs[cls] = LC[cls].loc[location]*WC[cls].loc[weather]*TC[cls].loc[trigger]\n",
    "        pred_class = max(probs, key=probs.get)\n",
    "        if pred_class == row[\"Class\"]:\n",
    "            num_correct_predictions += 1\n",
    "    accuracy = num_correct_predictions/len(test_set)\n",
    "    accuracies.append(accuracy) # Append the accuracy for each trial to the accuracy list\n",
    "avg_accuracy = sum(accuracies)/len(accuracies) # Compute the average accuracy\n",
    "# Answer Question 5\n",
    "print(\"Q5: The accuracies for five predictions are\", accuracies)\n",
    "print(\"The average accuracy for five predictions on the test set is\", avg_accuracy)"
   ]
  },
  {
   "cell_type": "code",
   "execution_count": null,
   "metadata": {},
   "outputs": [],
   "source": [
    "# Question 6\n",
    "print(\"Q6: If we predict the cause of the disengagement by chance, the accuracy of predictions is expected to be 1/3. Therefore, making predictions using the NB model does better than chance as its accuracy stays around 0.8 for all the trials.\")"
   ]
  },
  {
   "cell_type": "code",
   "execution_count": null,
   "metadata": {},
   "outputs": [],
   "source": [
    "# Question 7\n",
    "print(\"Q7: The assumption for the NB model is that weather, location, and type of trigger are class consitionally independent. Intuitively, the assumptions are not very realistic in several senses. First, the weather can depend on the locations because some locations on the US highways can be more cloudy or more clear than urbana. Second, the type of trigger depends on the locations, too. For example, people are more likely to use the automatic trigger on the highway than in cities because the road conditions on the highways are usually much easier to deal with. Third, the type of trigger denpends on the weather, too. In extreme weathers, people tend to use the manual trigger more because they want to avoid losing control in unsafe situations.\")"
   ]
  },
  {
   "cell_type": "code",
   "execution_count": null,
   "metadata": {},
   "outputs": [],
   "source": [
    "# Question 8\n",
    "print(\"Q8: In order to improve the accuracy of predicting, we need to capture the dependence of one factor on another (e.g. the dependence of weather on locations). The Bayes Network model can fulfill the needs.\")"
   ]
  }
 ],
 "metadata": {
  "kernelspec": {
   "display_name": "Python 3",
   "language": "python",
   "name": "python3"
  },
  "language_info": {
   "codemirror_mode": {
    "name": "ipython",
    "version": 3
   },
   "file_extension": ".py",
   "mimetype": "text/x-python",
   "name": "python",
   "nbconvert_exporter": "python",
   "pygments_lexer": "ipython3",
   "version": "3.7.3"
  }
 },
 "nbformat": 4,
 "nbformat_minor": 2
}
